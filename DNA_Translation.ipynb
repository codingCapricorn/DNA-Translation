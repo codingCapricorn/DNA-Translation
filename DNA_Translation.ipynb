{
  "nbformat": 4,
  "nbformat_minor": 0,
  "metadata": {
    "colab": {
      "name": "Welcome To Colaboratory",
      "provenance": [],
      "collapsed_sections": [],
      "toc_visible": true,
      "include_colab_link": true
    },
    "kernelspec": {
      "display_name": "Python 3",
      "name": "python3"
    }
  },
  "cells": [
    {
      "cell_type": "markdown",
      "metadata": {
        "id": "view-in-github",
        "colab_type": "text"
      },
      "source": [
        "<a href=\"https://colab.research.google.com/github/codingCapricorn/DNA-Translation/blob/master/DNA_Translation.ipynb\" target=\"_parent\"><img src=\"https://colab.research.google.com/assets/colab-badge.svg\" alt=\"Open In Colab\"/></a>"
      ]
    },
    {
      "cell_type": "code",
      "metadata": {
        "id": "1iK_mK22NanW",
        "colab_type": "code",
        "colab": {
          "base_uri": "https://localhost:8080/",
          "height": 34
        },
        "outputId": "3bd0662f-43b0-4501-f1e4-2f0c649c5634"
      },
      "source": [
        "#open the original DNA sequence .txt file\n",
        "inputfile=\"DNA_sequence_original.txt\" #make sure to put your file in the right directory\n",
        "f=open(inputfile,\"r\")\n",
        "seq=f.read()\n",
        "# >>>seq   #check the DNA sequence\n",
        "seq=seq.replace(\"\\n\",\"\") #you will see \"\\n\" characters messing with our DNA sequence, so we are cleaning them off the sequence.\n",
        "seq=seq.replace(\"\\r\",\"\")\n",
        "# >>>seq   #check the DNA sequence\n",
        "def translate(seq):\n",
        "    \"\"\"\n",
        "    Translate a string containing a nucleotide sequence into a string containing the corresponding sequence of amino acids .\n",
        "    Nucleotides are translated in triplets using the table dictionary; each amino acid 4 is encoded with a string of length 1.\n",
        "    \"\"\"\n",
        "    table = {\n",
        "        'ATA':'I', 'ATC':'I', 'ATT':'I', 'ATG':'M',\n",
        "        'ACA':'T', 'ACC':'T', 'ACG':'T', 'ACT':'T',\n",
        "        'AAC':'N', 'AAT':'N', 'AAA':'K', 'AAG':'K',\n",
        "        'AGC':'S', 'AGT':'S', 'AGA':'R', 'AGG':'R',                  #this table dictionary is pre-created\n",
        "        'CTA':'L', 'CTC':'L', 'CTG':'L', 'CTT':'L',\n",
        "        'CCA':'P', 'CCC':'P', 'CCG':'P', 'CCT':'P',\n",
        "        'CAC':'H', 'CAT':'H', 'CAA':'Q', 'CAG':'Q',\n",
        "        'CGA':'R', 'CGC':'R', 'CGG':'R', 'CGT':'R',\n",
        "        'GTA':'V', 'GTC':'V', 'GTG':'V', 'GTT':'V',\n",
        "        'GCA':'A', 'GCC':'A', 'GCG':'A', 'GCT':'A',\n",
        "        'GAC':'D', 'GAT':'D', 'GAA':'E', 'GAG':'E',\n",
        "        'GGA':'G', 'GGC':'G', 'GGG':'G', 'GGT':'G',\n",
        "        'TCA':'S', 'TCC':'S', 'TCG':'S', 'TCT':'S',\n",
        "        'TTC':'F', 'TTT':'F', 'TTA':'L', 'TTG':'L',\n",
        "        'TAC':'Y', 'TAT':'Y', 'TAA':'_', 'TAG':'_',\n",
        "        'TGC':'C', 'TGT':'C', 'TGA':'_', 'TGG':'W',\n",
        "    }\n",
        "    protein=\"\"\n",
        "    if len(seq)%3==0:\n",
        "        for i in range(0,len(seq),3):\n",
        "            codon=seq[i:i+3]\n",
        "            protein+=table[codon]\n",
        "    return protein\n",
        "def read_seq(inputfile):\n",
        "    with open(inputfile,\"r\") as f:\n",
        "        seq=f.read()\n",
        "    seq=seq.replace(\"\\n\",\"\")\n",
        "    seq=seq.replace(\"\\r\",\"\")\n",
        "    return seq\n",
        "\n",
        "prt = read_seq(\"amino_acid_sequence_original.txt\")\n",
        "dna = read_seq(\"DNA_sequence_original.txt\")\n",
        "#>>>translate(dna)\n",
        "#>>>translate(dna[20:938])  #try translating the DNA sequence into a protein sequence\n",
        "#>>>len(translate(dna[20:938]))%3 #check, now than the translated sequence is divisible by 3 since we classified the terminal & starting codon as well\n",
        "# say p = translate(dna[20:938])  , try printing >>>p & >>>prt | p = amino acid sequence prepared by us & prt = amino acid sequence from the database of NCBI\n",
        "# >>>p==prt  , # = False, since _ character is read by default as an end to the string in p\n",
        "p=translate(dna[20:935]) #dna[20:938] --> dna[20:935] (since, each character = tri base pair)\n",
        "p==prt # True , we got our analysis correct\n",
        "\n",
        "'''\n",
        "prt==p[:-1] #False\n",
        "p=translate(dna[20:938])\n",
        "prt==p[:-1] #True\n",
        "'''"
      ],
      "execution_count": 13,
      "outputs": [
        {
          "output_type": "execute_result",
          "data": {
            "text/plain": [
              "'\\nprt==p[:-1] #False\\np=translate(dna[20:938])\\nprt==p[:-1] #True\\n'"
            ]
          },
          "metadata": {
            "tags": []
          },
          "execution_count": 13
        }
      ]
    },
    {
      "cell_type": "code",
      "metadata": {
        "id": "f4isAPe5NniL",
        "colab_type": "code",
        "colab": {}
      },
      "source": [
        ""
      ],
      "execution_count": 0,
      "outputs": []
    }
  ]
}